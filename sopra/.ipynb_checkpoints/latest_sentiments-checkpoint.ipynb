{
 "cells": [
  {
   "cell_type": "code",
   "execution_count": 1,
   "metadata": {},
   "outputs": [],
   "source": [
    "import pandas as pd\n",
    "import numpy as np"
   ]
  },
  {
   "cell_type": "code",
   "execution_count": 4,
   "metadata": {},
   "outputs": [],
   "source": [
    "from sqlalchemy import create_engine\n",
    "database_username = 'root'\n",
    "database_password = ''\n",
    "database_ip       = 'localhost'\n",
    "database_name     = 'SopraSteria'\n",
    "database_connection = create_engine('mysql+mysqlconnector://{0}:{1}@{2}/{3}'.\n",
    "                                               format(database_username, database_password, \n",
    "                                                      database_ip, database_name))"
   ]
  },
  {
   "cell_type": "code",
   "execution_count": 8,
   "metadata": {},
   "outputs": [],
   "source": [
    "import mysql.connector as mysql\n",
    "db = mysql.connect(\n",
    "    host = \"localhost\",\n",
    "    user = \"root\",\n",
    "    passwd = \"\",\n",
    "    database = \"SopraSteria\"\n",
    ")\n",
    "cursor = db.cursor()"
   ]
  },
  {
   "cell_type": "code",
   "execution_count": 9,
   "metadata": {},
   "outputs": [],
   "source": [
    "query = \"SELECT * FROM twitter\"\n",
    "\n",
    "## getting records from the table\n",
    "cursor.execute(query)\n",
    "\n",
    "## fetching all records from the 'cursor' object\n",
    "records = cursor.fetchall()\n",
    "\n",
    "## Showing the data\n",
    "# for record in records:\n",
    "#     print(record)"
   ]
  },
  {
   "cell_type": "code",
   "execution_count": 23,
   "metadata": {},
   "outputs": [],
   "source": [
    "from textblob import TextBlob\n",
    "import MySQLdb \n",
    "for i in range(len(records)):\n",
    "    db=MySQLdb.connect(host=\"localhost\", user=\"root\", passwd=\"\", db=\"SopraSteria\", charset=\"utf8\")\n",
    "    cursor = db.cursor()\n",
    "    blob = TextBlob(records[i][4])\n",
    "    if blob.sentiment[0]==0:\n",
    "        senti=\"neutral\"\n",
    "    elif blob.sentiment[0]>0:\n",
    "        senti=\"positive\"\n",
    "    else:\n",
    "        senti=\"negative\"\n",
    "    \n",
    "    insert_query = \"INSERT INTO tweetsentiments (tweet, sentiment) VALUES (%s, %s)\"\n",
    "    cursor.execute(insert_query, (records[i][4], senti))\n",
    "    db.commit()\n",
    "    cursor.close()\n",
    "    db.close()\n",
    "    "
   ]
  },
  {
   "cell_type": "code",
   "execution_count": 36,
   "metadata": {},
   "outputs": [],
   "source": [
    "from sqlalchemy import create_engine\n",
    "database_username = 'root'\n",
    "database_password = ''\n",
    "database_ip       = 'localhost'\n",
    "database_name     = 'SopraSteria'\n",
    "database_connection = create_engine('mysql+mysqlconnector://{0}:{1}@{2}/{3}'.\n",
    "                                               format(database_username, database_password, \n",
    "                                                      database_ip, database_name))"
   ]
  },
  {
   "cell_type": "code",
   "execution_count": null,
   "metadata": {},
   "outputs": [],
   "source": [
    "# rec=np.array(records)\n",
    "# rec[:,1:]"
   ]
  }
 ],
 "metadata": {
  "kernelspec": {
   "display_name": "Python 3",
   "language": "python",
   "name": "python3"
  },
  "language_info": {
   "codemirror_mode": {
    "name": "ipython",
    "version": 3
   },
   "file_extension": ".py",
   "mimetype": "text/x-python",
   "name": "python",
   "nbconvert_exporter": "python",
   "pygments_lexer": "ipython3",
   "version": "3.6.5"
  }
 },
 "nbformat": 4,
 "nbformat_minor": 2
}
