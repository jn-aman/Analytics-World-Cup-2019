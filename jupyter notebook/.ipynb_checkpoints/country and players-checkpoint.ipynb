{
 "cells": [
  {
   "cell_type": "code",
   "execution_count": 1,
   "metadata": {},
   "outputs": [],
   "source": [
    "WORDS =[\"Dhoni\",\"Virat\", \"Rohit Sharma\", \"Dhawan\",\n",
    "         \"Jadhav\", \"Hardik Pandya\", \"Bhuvneshwar Kumar\", \"Kuldeep Yadav\", \"Yuzvendra Chahal\", \"Jasprit Bumrah\",\n",
    "         \"Mohammed Shami\", \"Vijay Shankar\", \"Dinesh Karthik\", \"KL Rahul\", \"Ravindra Jadeja\", \"Shoaib Malik\",\n",
    "         \"Mohammad Hafeez\", \"Sarfaraz Ahmed\" , \"Wahab Riaz\", \"Mohammad Amir\", \"Haris Sohail\", \"Babar Azam\", \n",
    "         \"Imam-ul-Haq\", \"Asif Ali\", \"Imad Wasim\",\"Fakhar Zaman\",\"Eoin Morgan\",\"Jason Roy\", \"Jonny Bairstow\", \n",
    "         \"James Vince\", \"Jos Buttler\" , \"Ben Stokes\", \"Moeen Ali\", \"Chris Woakes\", \"Liam Dawson\", \"Tom Curran\", \n",
    "         \"Liam Plunkett\",\"Gulbadin Naib\" , \"Mohammad Shahzad\" , \"Noor Ali Zadran\", \"Hazratullah Zazai\", \"Rahmat Shah\",\n",
    "         \"Asghar Afghan\", \"Hashmatullah Shahidi\", \"Najibullah Zadran\", \"Samiullah Shinwari\", \"Mohammad Nabi\",\n",
    "         \"Aaron Finch\", \"David Warner\", \"Usman Khawaja\", \"Steven Smith\", \"Shaun Marsh\", \"Marcus Stoinis\", \n",
    "         \"Alex Carey\" , \"Nathan Coulter-Nile\", \"Jason Behrendorff\", \"Kane Richardson\", \"Mashrafe Mortaza\" , \n",
    "         \"Tamim Iqbal\", \"Liton Das\",\"Soumya Sarkar\", \"Mushfiqur Rahim\", \"Mahmudullah Riyad\", \"Shakib Al Hasan\", \n",
    "         \"Mohammad Mithun\" , \"Sabbir Rahman\",\"Kane Williamson\", \"Tom Blundell\" , \"Trent Boult\", \"Colin de Grandhomme\",\n",
    "         \"Lockie Ferguson\",\" Martin Guptill\", \"Matt Henry\", \"Tom Latham (wk)\", \"Colin Munro\",\"Faf du Plessis\",\n",
    "         \"Quinton de Kock\", \"David Miller\", \"JP Duminy\", \"Hashim Amla\", \"Aiden Markram\", \"Rassie van der Dussen\", \n",
    "         \"Dwaine Pretorius\", \"Andile Phehlukwayo\",\"Dimuth Karunaratne\", \"Angelo Mathews\", \"Thisara Perera\", \n",
    "         \"Kusal Perera\",\"Dhananjaya de Silva\", \"Kusal Mendis\", \"Isuru Udana\", \"Milinda Siriwardana\",\n",
    "         \"Avishka Fernando\"]"
   ]
  },
  {
   "cell_type": "code",
   "execution_count": 2,
   "metadata": {},
   "outputs": [],
   "source": [
    "import re\n",
    "\n",
    "def urlify(s):\n",
    "\n",
    "    # Remove all non-word characters (everything except numbers and letters)\n",
    "    s = re.sub(r\"[^\\w\\s]\", '', s)\n",
    "\n",
    "    # Replace all runs of whitespace with a single dash\n",
    "    s = re.sub(r\"\\s+\", '_', s)\n",
    "\n",
    "    return s.lower()"
   ]
  },
  {
   "cell_type": "code",
   "execution_count": 3,
   "metadata": {},
   "outputs": [],
   "source": [
    "word=[urlify(i) for i in WORDS]\n",
    "WORDS=[i.lower() for i in WORDS]"
   ]
  },
  {
   "cell_type": "code",
   "execution_count": 4,
   "metadata": {},
   "outputs": [],
   "source": [
    "import mysql.connector as mysql\n",
    "db = mysql.connect(\n",
    "    host = \"localhost\",\n",
    "    user = \"root\",\n",
    "    passwd = \"\",\n",
    "    database = \"SopraSteria\"\n",
    ")\n",
    "cursor = db.cursor()"
   ]
  },
  {
   "cell_type": "code",
   "execution_count": 5,
   "metadata": {},
   "outputs": [],
   "source": [
    "query = \"SELECT * FROM twitter\"\n",
    "\n",
    "cursor.execute(query)\n",
    "\n",
    "records = cursor.fetchall()\n",
    "\n",
    "## Showing the data\n",
    "# for record in records:\n",
    "#     print(record)\n"
   ]
  },
  {
   "cell_type": "code",
   "execution_count": 44,
   "metadata": {},
   "outputs": [],
   "source": []
  },
  {
   "cell_type": "code",
   "execution_count": 6,
   "metadata": {},
   "outputs": [],
   "source": [
    "vocab=[\"india\",\"pakistan\" ,\"sri lanka\",\"england\",\"afganistan\",\"australia\",\"bangladesh\",\"new zealand\",\"south africa\",\"west indies\"]\n",
    "vocab_l=[urlify(i) for i in vocab]"
   ]
  },
  {
   "cell_type": "code",
   "execution_count": 8,
   "metadata": {},
   "outputs": [
    {
     "name": "stdout",
     "output_type": "stream",
     "text": [
      "['india', 'pakistan', 'sri lanka', 'england', 'afganistan', 'australia', 'bangladesh', 'new zealand', 'south africa', 'west indies']\n"
     ]
    }
   ],
   "source": [
    "print(vocab)"
   ]
  },
  {
   "cell_type": "code",
   "execution_count": 7,
   "metadata": {},
   "outputs": [
    {
     "name": "stdout",
     "output_type": "stream",
     "text": [
      "dhoni\n"
     ]
    }
   ],
   "source": [
    "print(WORDS[0])"
   ]
  },
  {
   "cell_type": "code",
   "execution_count": 9,
   "metadata": {},
   "outputs": [],
   "source": [
    "def word_count(str1):\n",
    "    counts = dict.fromkeys(word)\n",
    "\n",
    "    for i in range(len(word)):\n",
    "        \n",
    "            counts[word[i]]=str1.count(WORDS[i])\n",
    "        \n",
    "\n",
    "    return counts"
   ]
  },
  {
   "cell_type": "code",
   "execution_count": 10,
   "metadata": {},
   "outputs": [],
   "source": [
    "import collections\n",
    "counts_all = collections.defaultdict(dict)\n",
    "for j in range(len(vocab)):\n",
    "    for i in range(len(records)):\n",
    "        if records[i][5].lower().count(vocab[j]) or (records[i][4] is not None and records[i][4].lower().count(vocab[j])):\n",
    "            counts_all[vocab_l[j]][i]=word_count(records[i][5].lower())\n",
    "        \n",
    "    \n",
    "counts_all=dict(counts_all)"
   ]
  },
  {
   "cell_type": "code",
   "execution_count": 11,
   "metadata": {},
   "outputs": [],
   "source": [
    "import pandas as pd\n",
    "dataframe_collection = {} \n",
    "for county in vocab_l:\n",
    "    dataframe_collection[county] = pd.DataFrame.from_dict(counts_all[county], orient='index',columns=word)"
   ]
  },
  {
   "cell_type": "code",
   "execution_count": 12,
   "metadata": {},
   "outputs": [
    {
     "data": {
      "text/html": [
       "<div>\n",
       "<style scoped>\n",
       "    .dataframe tbody tr th:only-of-type {\n",
       "        vertical-align: middle;\n",
       "    }\n",
       "\n",
       "    .dataframe tbody tr th {\n",
       "        vertical-align: top;\n",
       "    }\n",
       "\n",
       "    .dataframe thead th {\n",
       "        text-align: right;\n",
       "    }\n",
       "</style>\n",
       "<table border=\"1\" class=\"dataframe\">\n",
       "  <thead>\n",
       "    <tr style=\"text-align: right;\">\n",
       "      <th></th>\n",
       "      <th>dhoni</th>\n",
       "      <th>virat</th>\n",
       "      <th>rohit_sharma</th>\n",
       "      <th>dhawan</th>\n",
       "      <th>jadhav</th>\n",
       "      <th>hardik_pandya</th>\n",
       "      <th>bhuvneshwar_kumar</th>\n",
       "      <th>kuldeep_yadav</th>\n",
       "      <th>yuzvendra_chahal</th>\n",
       "      <th>jasprit_bumrah</th>\n",
       "      <th>...</th>\n",
       "      <th>andile_phehlukwayo</th>\n",
       "      <th>dimuth_karunaratne</th>\n",
       "      <th>angelo_mathews</th>\n",
       "      <th>thisara_perera</th>\n",
       "      <th>kusal_perera</th>\n",
       "      <th>dhananjaya_de_silva</th>\n",
       "      <th>kusal_mendis</th>\n",
       "      <th>isuru_udana</th>\n",
       "      <th>milinda_siriwardana</th>\n",
       "      <th>avishka_fernando</th>\n",
       "    </tr>\n",
       "  </thead>\n",
       "  <tbody>\n",
       "    <tr>\n",
       "      <th>0</th>\n",
       "      <td>0</td>\n",
       "      <td>0</td>\n",
       "      <td>0</td>\n",
       "      <td>0</td>\n",
       "      <td>0</td>\n",
       "      <td>0</td>\n",
       "      <td>0</td>\n",
       "      <td>0</td>\n",
       "      <td>0</td>\n",
       "      <td>0</td>\n",
       "      <td>...</td>\n",
       "      <td>0</td>\n",
       "      <td>0</td>\n",
       "      <td>0</td>\n",
       "      <td>0</td>\n",
       "      <td>0</td>\n",
       "      <td>0</td>\n",
       "      <td>0</td>\n",
       "      <td>0</td>\n",
       "      <td>0</td>\n",
       "      <td>0</td>\n",
       "    </tr>\n",
       "    <tr>\n",
       "      <th>10</th>\n",
       "      <td>1</td>\n",
       "      <td>0</td>\n",
       "      <td>0</td>\n",
       "      <td>0</td>\n",
       "      <td>0</td>\n",
       "      <td>0</td>\n",
       "      <td>0</td>\n",
       "      <td>0</td>\n",
       "      <td>0</td>\n",
       "      <td>0</td>\n",
       "      <td>...</td>\n",
       "      <td>0</td>\n",
       "      <td>0</td>\n",
       "      <td>0</td>\n",
       "      <td>0</td>\n",
       "      <td>0</td>\n",
       "      <td>0</td>\n",
       "      <td>0</td>\n",
       "      <td>0</td>\n",
       "      <td>0</td>\n",
       "      <td>0</td>\n",
       "    </tr>\n",
       "    <tr>\n",
       "      <th>22</th>\n",
       "      <td>0</td>\n",
       "      <td>0</td>\n",
       "      <td>0</td>\n",
       "      <td>0</td>\n",
       "      <td>0</td>\n",
       "      <td>0</td>\n",
       "      <td>0</td>\n",
       "      <td>0</td>\n",
       "      <td>0</td>\n",
       "      <td>0</td>\n",
       "      <td>...</td>\n",
       "      <td>0</td>\n",
       "      <td>0</td>\n",
       "      <td>0</td>\n",
       "      <td>0</td>\n",
       "      <td>0</td>\n",
       "      <td>0</td>\n",
       "      <td>0</td>\n",
       "      <td>0</td>\n",
       "      <td>0</td>\n",
       "      <td>0</td>\n",
       "    </tr>\n",
       "    <tr>\n",
       "      <th>26</th>\n",
       "      <td>0</td>\n",
       "      <td>0</td>\n",
       "      <td>0</td>\n",
       "      <td>0</td>\n",
       "      <td>0</td>\n",
       "      <td>0</td>\n",
       "      <td>0</td>\n",
       "      <td>0</td>\n",
       "      <td>0</td>\n",
       "      <td>0</td>\n",
       "      <td>...</td>\n",
       "      <td>0</td>\n",
       "      <td>0</td>\n",
       "      <td>0</td>\n",
       "      <td>0</td>\n",
       "      <td>0</td>\n",
       "      <td>0</td>\n",
       "      <td>0</td>\n",
       "      <td>0</td>\n",
       "      <td>0</td>\n",
       "      <td>0</td>\n",
       "    </tr>\n",
       "    <tr>\n",
       "      <th>76</th>\n",
       "      <td>0</td>\n",
       "      <td>0</td>\n",
       "      <td>0</td>\n",
       "      <td>0</td>\n",
       "      <td>0</td>\n",
       "      <td>0</td>\n",
       "      <td>0</td>\n",
       "      <td>0</td>\n",
       "      <td>0</td>\n",
       "      <td>0</td>\n",
       "      <td>...</td>\n",
       "      <td>0</td>\n",
       "      <td>0</td>\n",
       "      <td>0</td>\n",
       "      <td>0</td>\n",
       "      <td>0</td>\n",
       "      <td>0</td>\n",
       "      <td>0</td>\n",
       "      <td>0</td>\n",
       "      <td>0</td>\n",
       "      <td>0</td>\n",
       "    </tr>\n",
       "  </tbody>\n",
       "</table>\n",
       "<p>5 rows × 93 columns</p>\n",
       "</div>"
      ],
      "text/plain": [
       "    dhoni  virat  rohit_sharma  dhawan  jadhav  hardik_pandya  \\\n",
       "0       0      0             0       0       0              0   \n",
       "10      1      0             0       0       0              0   \n",
       "22      0      0             0       0       0              0   \n",
       "26      0      0             0       0       0              0   \n",
       "76      0      0             0       0       0              0   \n",
       "\n",
       "    bhuvneshwar_kumar  kuldeep_yadav  yuzvendra_chahal  jasprit_bumrah  \\\n",
       "0                   0              0                 0               0   \n",
       "10                  0              0                 0               0   \n",
       "22                  0              0                 0               0   \n",
       "26                  0              0                 0               0   \n",
       "76                  0              0                 0               0   \n",
       "\n",
       "          ...         andile_phehlukwayo  dimuth_karunaratne  angelo_mathews  \\\n",
       "0         ...                          0                   0               0   \n",
       "10        ...                          0                   0               0   \n",
       "22        ...                          0                   0               0   \n",
       "26        ...                          0                   0               0   \n",
       "76        ...                          0                   0               0   \n",
       "\n",
       "    thisara_perera  kusal_perera  dhananjaya_de_silva  kusal_mendis  \\\n",
       "0                0             0                    0             0   \n",
       "10               0             0                    0             0   \n",
       "22               0             0                    0             0   \n",
       "26               0             0                    0             0   \n",
       "76               0             0                    0             0   \n",
       "\n",
       "    isuru_udana  milinda_siriwardana  avishka_fernando  \n",
       "0             0                    0                 0  \n",
       "10            0                    0                 0  \n",
       "22            0                    0                 0  \n",
       "26            0                    0                 0  \n",
       "76            0                    0                 0  \n",
       "\n",
       "[5 rows x 93 columns]"
      ]
     },
     "execution_count": 12,
     "metadata": {},
     "output_type": "execute_result"
    }
   ],
   "source": [
    "dataframe_collection[\"afganistan\"].head()"
   ]
  },
  {
   "cell_type": "code",
   "execution_count": 13,
   "metadata": {},
   "outputs": [],
   "source": [
    "from sqlalchemy import create_engine\n",
    "database_username = 'root'\n",
    "database_password = ''\n",
    "database_ip       = 'localhost'\n",
    "database_name     = 'SopraSteria'\n",
    "database_connection = create_engine('mysql+mysqlconnector://{0}:{1}@{2}/{3}'.\n",
    "                                               format(database_username, database_password, \n",
    "                                                      database_ip, database_name))\n",
    "\n",
    "\n"
   ]
  },
  {
   "cell_type": "code",
   "execution_count": 15,
   "metadata": {},
   "outputs": [],
   "source": [
    "for county in vocab_l:\n",
    "    dataframe_collection[county].to_sql(name=county, con=database_connection, if_exists='replace',index_label='id',chunksize=500)\n"
   ]
  }
 ],
 "metadata": {
  "kernelspec": {
   "display_name": "Python 3",
   "language": "python",
   "name": "python3"
  },
  "language_info": {
   "codemirror_mode": {
    "name": "ipython",
    "version": 3
   },
   "file_extension": ".py",
   "mimetype": "text/x-python",
   "name": "python",
   "nbconvert_exporter": "python",
   "pygments_lexer": "ipython3",
   "version": "3.6.5"
  }
 },
 "nbformat": 4,
 "nbformat_minor": 2
}
